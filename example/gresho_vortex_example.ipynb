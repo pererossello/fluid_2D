{
 "cells": [
  {
   "cell_type": "code",
   "execution_count": 3,
   "metadata": {},
   "outputs": [],
   "source": [
    "%reload_ext autoreload\n",
    "%autoreload 2\n",
    "\n",
    "import os\n",
    "import sys\n",
    "import shutil\n",
    "sys.path.append('..') \n",
    "\n",
    "import numpy as np\n",
    "import matplotlib.pyplot as plt\n",
    "import h5py\n",
    "\n",
    "import utils\n",
    "import plot_utils as pu\n",
    "from CFD_solver import Fluid2D\n",
    "from utils import VortexIcs"
   ]
  },
  {
   "cell_type": "code",
   "execution_count": 4,
   "metadata": {},
   "outputs": [
    {
     "name": "stdout",
     "output_type": "stream",
     "text": [
      "Compute time: 1.50e+00 s\n"
     ]
    }
   ],
   "source": [
    "N = 100\n",
    "lim = 0.5\n",
    "\n",
    "Ics = VortexIcs(N, lim)\n",
    "\n",
    "CFL_factor = 1\n",
    "T = 3\n",
    "\n",
    "output_folder = f'../results/vortex/test/'\n",
    "\n",
    "Fluid = Fluid2D(Ics.x, Ics.y, Ics.D, Ics.U, Ics.V, Ics.P, CFL_factor=CFL_factor)\n",
    "Fluid.set_output_folder(output_folder)\n",
    "\n",
    "fact = 0.9\n",
    "x_tracer_ = np.linspace(-lim*fact, lim*fact, 10)\n",
    "y_tracer_ = np.linspace(-lim*fact, lim*fact, 10)\n",
    "\n",
    "# all combinations\n",
    "x_tracer, y_tracer = np.meshgrid(x_tracer_, y_tracer_)\n",
    "x_tracer = x_tracer.flatten()\n",
    "y_tracer = y_tracer.flatten()\n",
    "\n",
    "\n",
    "Fluid.add_tracers(x_tracer, y_tracer)\n",
    "Fluid.evaluate(T, snapshot_times=150)\n",
    "utils.postprocess_data(Fluid.output_data_path)"
   ]
  },
  {
   "cell_type": "code",
   "execution_count": 80,
   "metadata": {},
   "outputs": [],
   "source": [
    "save_path = output_folder + 'conserved_quantites.jpg' \n",
    "pu.plot_conserved_quantities(Fluid.output_data_path, save_path)"
   ]
  },
  {
   "cell_type": "code",
   "execution_count": 97,
   "metadata": {},
   "outputs": [
    {
     "name": "stdout",
     "output_type": "stream",
     "text": [
      "Saved frame 150/150\r"
     ]
    }
   ],
   "source": [
    "pu.animate_field(Fluid.output_data_path, output_folder, field_name='Velocity Magnitude', fps=20)"
   ]
  }
 ],
 "metadata": {
  "kernelspec": {
   "display_name": "nbody",
   "language": "python",
   "name": "python3"
  },
  "language_info": {
   "codemirror_mode": {
    "name": "ipython",
    "version": 3
   },
   "file_extension": ".py",
   "mimetype": "text/x-python",
   "name": "python",
   "nbconvert_exporter": "python",
   "pygments_lexer": "ipython3",
   "version": "3.11.9"
  }
 },
 "nbformat": 4,
 "nbformat_minor": 2
}

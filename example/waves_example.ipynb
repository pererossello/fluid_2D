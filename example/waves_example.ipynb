{
 "cells": [
  {
   "cell_type": "code",
   "execution_count": 1,
   "metadata": {},
   "outputs": [],
   "source": [
    "%reload_ext autoreload\n",
    "%autoreload 2\n",
    "\n",
    "%reload_ext autoreload\n",
    "%autoreload 2\n",
    "\n",
    "import os\n",
    "import sys\n",
    "import shutil\n",
    "sys.path.append('..') \n",
    "\n",
    "import numpy as np\n",
    "import matplotlib.pyplot as plt\n",
    "import h5py\n",
    "\n",
    "import plot_utils as pu\n",
    "from code.bin_newer.CFD_solver import Fluid2D\n",
    "from utils import WaveIcs"
   ]
  },
  {
   "cell_type": "code",
   "execution_count": 26,
   "metadata": {},
   "outputs": [
    {
     "name": "stdout",
     "output_type": "stream",
     "text": [
      "Compute time: 5.65e-01 s\n",
      "Number of snapshots: 49\n"
     ]
    }
   ],
   "source": [
    "N = 100\n",
    "lim = 1\n",
    "AD = 1e-1\n",
    "k_x, k_y = 1 * 2*np.pi, 0 * 2*np.pi\n",
    "D0 = 1\n",
    "P0 = 1\n",
    "\n",
    "Ics = WaveIcs(N, lim)\n",
    "Ics.set_perturbation(AD, k_x, k_y, D0=D0, P0=P0)\n",
    "\n",
    "output_folder = f'../results/waves/test/'\n",
    "T = 5\n",
    "CFL_factor = 1\n",
    "\n",
    "U = Ics.U\n",
    "V = Ics.V\n",
    "\n",
    "Fluid = Fluid2D(Ics.x, Ics.y, Ics.D, U, V, Ics.P, CFL_factor=CFL_factor)\n",
    "Fluid.set_output_folder(output_folder)\n",
    "Fluid.evaluate(T)"
   ]
  },
  {
   "cell_type": "code",
   "execution_count": 28,
   "metadata": {},
   "outputs": [
    {
     "name": "stdout",
     "output_type": "stream",
     "text": [
      "Saved frame 49/49\r"
     ]
    }
   ],
   "source": [
    "n_plots = None\n",
    "fields = ['Pressure', 'Density', 'Velocity X', 'Velocity Y']\n",
    "\n",
    "save_folder = output_folder + 'frames/'\n",
    "if not os.path.exists(save_folder):\n",
    "    os.makedirs(save_folder)\n",
    "else:\n",
    "    shutil.rmtree(save_folder)\n",
    "    os.makedirs(save_folder)\n",
    "\n",
    "\n",
    "with h5py.File(Fluid.output_data_path, 'r') as file:\n",
    "\n",
    "    M = file['Header'].attrs['N']\n",
    "    x = file['Header'].attrs['X']\n",
    "    y = file['Header'].attrs['Y']\n",
    "\n",
    "    X, Y = np.meshgrid(x, y)\n",
    "\n",
    "\n",
    "    if n_plots is None:\n",
    "        n_plots = M\n",
    "    idxs = np.linspace(0, M-1, n_plots, dtype=int)\n",
    "\n",
    "    cmap = 'coolwarm'\n",
    "    Fig = pu.Figure(subplots=(2,2), fig_size=540, ratio=1, theme='default', grid=False)\n",
    "    axs = Fig.axes_flat\n",
    "    fs = Fig.fs\n",
    "    ts = Fig.ts\n",
    "\n",
    "    idx = 0\n",
    "    min_max = {}\n",
    "    for i, field_name in enumerate(fields):\n",
    "        for k in range(M):\n",
    "            step_group = file[f\"{k:03d}\"]\n",
    "            field = step_group[field_name][()]\n",
    "            if k == 0:\n",
    "                max_field = np.max(field)\n",
    "                min_field = np.min(field)\n",
    "            else:\n",
    "                max_field = np.max([max_field, np.max(field)])\n",
    "                min_field = np.min([min_field, np.min(field)])\n",
    "\n",
    "            min_max[field_name] = (min_field, max_field)\n",
    "\n",
    "        axs[i].set_aspect(\"equal\", \"box\")\n",
    "        axs[i].text(0.5, 1.05, field_name, ha='center', va='center', transform=axs[i].transAxes, fontsize=fs*ts, color='k')\n",
    "\n",
    "    for i, idx in enumerate(idxs):\n",
    "        ims = []\n",
    "        for j, field_name in enumerate(fields):\n",
    "\n",
    "            field = np.array(file[f'{idx:03d}'][field_name])\n",
    "\n",
    "            extent = [x[0], x[-1], y[0], y[-1]]\n",
    "            im = axs[j].pcolormesh(X, Y, field, vmin=min_max[field_name][0], vmax=min_max[field_name][1], cmap=cmap)\n",
    "            ims.append(im)\n",
    "\n",
    "\n",
    "        image_path = save_folder + f'frame_{i:04d}.jpg'\n",
    "        Fig.save(image_path)\n",
    "\n",
    "        plt.close()\n",
    "        for im in ims:\n",
    "            im.remove()\n",
    "\n",
    "        print(f\"Saved frame {i+1}/{n_plots}\", end='\\r')\n",
    "\n",
    "save_folder = output_folder + 'frames/'\n",
    "pu.frames_to_mp4(save_folder, fps=20)\n",
    "\n",
    "save_path = output_folder + 'conserved_quantites.jpg' \n",
    "pu.plot_conserved(Fluid.output_data_path, save_path)"
   ]
  }
 ],
 "metadata": {
  "kernelspec": {
   "display_name": "astroenv",
   "language": "python",
   "name": "python3"
  },
  "language_info": {
   "codemirror_mode": {
    "name": "ipython",
    "version": 3
   },
   "file_extension": ".py",
   "mimetype": "text/x-python",
   "name": "python",
   "nbconvert_exporter": "python",
   "pygments_lexer": "ipython3",
   "version": "3.11.9"
  }
 },
 "nbformat": 4,
 "nbformat_minor": 2
}
